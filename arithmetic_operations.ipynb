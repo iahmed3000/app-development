{
  "nbformat": 4,
  "nbformat_minor": 0,
  "metadata": {
    "colab": {
      "name": "arithmetic-operations.ipynb",
      "provenance": [],
      "authorship_tag": "ABX9TyPAOh7YJpDjxtLbYV4FRHRd",
      "include_colab_link": true
    },
    "kernelspec": {
      "name": "python3",
      "display_name": "Python 3"
    }
  },
  "cells": [
    {
      "cell_type": "markdown",
      "metadata": {
        "id": "view-in-github",
        "colab_type": "text"
      },
      "source": [
        "<a href=\"https://colab.research.google.com/github/iahmed3000/app-development/blob/python-skills/arithmetic_operations.ipynb\" target=\"_parent\"><img src=\"https://colab.research.google.com/assets/colab-badge.svg\" alt=\"Open In Colab\"/></a>"
      ]
    },
    {
      "cell_type": "code",
      "metadata": {
        "id": "7-dk6Xl_ed81",
        "colab_type": "code",
        "colab": {
          "base_uri": "https://localhost:8080/",
          "height": 158
        },
        "outputId": "51491bf8-32b1-43fc-8bdf-901ad3af4dc1"
      },
      "source": [
        "# addition\n",
        "print(3+2)\n",
        "# subtraction\n",
        "print(5-2)\n",
        "# multiplication\n",
        "print(5*2)\n",
        "# division\n",
        "print(5/2)\n",
        "# mod or remainder\n",
        "print(5%2)\n",
        "# exponention or power\n",
        "print(5**3)\n",
        "# // divides and rounds to nearest integer\n",
        "print(7//2)\n",
        "print(-7//2)\n",
        "# Bit operators too, require check tutorials, applications on embedded system PLC etc and memory management and complex calculations which require low processor\n",
        "\n"
      ],
      "execution_count": 5,
      "outputs": [
        {
          "output_type": "stream",
          "text": [
            "5\n",
            "3\n",
            "10\n",
            "2.5\n",
            "1\n",
            "125\n",
            "3\n",
            "-4\n"
          ],
          "name": "stdout"
        }
      ]
    }
  ]
}
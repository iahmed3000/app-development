{
  "nbformat": 4,
  "nbformat_minor": 0,
  "metadata": {
    "colab": {
      "name": "strings.ipynb",
      "provenance": [],
      "authorship_tag": "ABX9TyNftKU6TdvoOsY92VIvuJfN",
      "include_colab_link": true
    },
    "kernelspec": {
      "name": "python3",
      "display_name": "Python 3"
    }
  },
  "cells": [
    {
      "cell_type": "markdown",
      "metadata": {
        "id": "view-in-github",
        "colab_type": "text"
      },
      "source": [
        "<a href=\"https://colab.research.google.com/github/iahmed3000/app-development/blob/python-skills/strings.ipynb\" target=\"_parent\"><img src=\"https://colab.research.google.com/assets/colab-badge.svg\" alt=\"Open In Colab\"/></a>"
      ]
    },
    {
      "cell_type": "code",
      "metadata": {
        "id": "WppPajAt4zZO",
        "colab_type": "code",
        "colab": {
          "base_uri": "https://localhost:8080/",
          "height": 176
        },
        "outputId": "9593f4e3-e622-424a-83bc-403eea4e6c4c"
      },
      "source": [
        "\"\"\" \n",
        "String Summary\n",
        "1- Single or double quote\n",
        "2- use \\ with ' or \" between string\n",
        "3- len() to print string length\n",
        "4- print character using it's index eg first_word[], first_word[1] etc\n",
        "5- + for string concatenation eg first_word + ' ' + second_word\n",
        "6- * to repeat strings eg first_word * 5\n",
        "\"\"\"\n",
        "\n",
        "\"\"\"\n",
        "Strings\n",
        "Strings in Python are shown as the variable type str. You can define a string with either double quotes \" or single quotes '. If the string you are creating \n",
        "actually has one of these two values in it, then you need to be careful to assure your code doesn't give an error. \n",
        "\"\"\"\n",
        "my_string = 'this is a string!'\n",
        "my_string2 = \"this is also a string!!!\"\n",
        "print(my_string)\n",
        "print(my_string2)\n",
        "this_string = 'Simon\\'s skateboard is in the garage.' # using forward slash(\\) with single or double quotes between the string\n",
        "print(this_string)\n",
        "\"\"\"\n",
        "If we don't use this, notice we get the following error:\n",
        "this_string = 'Simon's skateboard is in the garage.'\n",
        "  File \"<ipython-input-20-e80562c2a290>\", line 1\n",
        "    this_string = 'Simon's skateboard is in the garage.'\n",
        "                         ^\n",
        "SyntaxError: invalid syntax\n",
        "\"\"\"\n",
        "\"\"\"\n",
        "The color highlighting is also an indication of the error you have in your string in this second case. There are a number of other operations you can use with \n",
        "strings as well. In this video you saw a few:\n",
        "\"\"\"\n",
        "first_word = 'Hello'\n",
        "second_word = 'There'\n",
        "print(first_word + second_word)\n",
        "\n",
        "# prints HelloThere without space\n",
        "\n",
        "print(first_word + ' ' + second_word)\n",
        "\n",
        "# prints Hello There with space in between\n",
        "\n",
        "print(first_word * 5)\n",
        "\n",
        "# prints HelloHelloHelloHelloHello 5 times\n",
        "\n",
        "print(len(first_word))\n",
        "\n",
        "# prints length of first string i.e 5\n",
        "\"\"\"\n",
        "Unlike the other data types you have seen so far, you can also index into strings, but you will see more on this soon! For now, here is a small example. \n",
        "Notice Python uses 0 indexing - we will discuss this later in this lesson in detail.\n",
        "\"\"\"\n",
        "print(first_word[0])\n",
        "\n",
        "# prints first character H\n",
        "\n",
        "print(first_word[1])\n",
        "\n",
        "# prints second character e"
      ],
      "execution_count": 6,
      "outputs": [
        {
          "output_type": "stream",
          "text": [
            "this is a string!\n",
            "this is also a string!!!\n",
            "Simon's skateboard is in the garage.\n",
            "HelloThere\n",
            "Hello There\n",
            "HelloHelloHelloHelloHello\n",
            "5\n",
            "H\n",
            "e\n"
          ],
          "name": "stdout"
        }
      ]
    }
  ]
}
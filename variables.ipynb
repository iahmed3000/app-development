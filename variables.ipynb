{
  "nbformat": 4,
  "nbformat_minor": 0,
  "metadata": {
    "colab": {
      "name": "variables.ipynb",
      "provenance": [],
      "authorship_tag": "ABX9TyNFLow6tSpOPl5CNd3As0v/",
      "include_colab_link": true
    },
    "kernelspec": {
      "name": "python3",
      "display_name": "Python 3"
    }
  },
  "cells": [
    {
      "cell_type": "markdown",
      "metadata": {
        "id": "view-in-github",
        "colab_type": "text"
      },
      "source": [
        "<a href=\"https://colab.research.google.com/github/iahmed3000/app-development/blob/python-skills/variables.ipynb\" target=\"_parent\"><img src=\"https://colab.research.google.com/assets/colab-badge.svg\" alt=\"Open In Colab\"/></a>"
      ]
    },
    {
      "cell_type": "code",
      "metadata": {
        "id": "G5PP_KcLkbwD",
        "colab_type": "code",
        "colab": {
          "base_uri": "https://localhost:8080/",
          "height": 105
        },
        "outputId": "145a35d6-4344-44b7-96fc-1a6e29236b8a"
      },
      "source": [
        "my_height=2 # assigning vale to variable\n",
        "print(my_height) # printintg the value\n",
        "a,b,c=1,2,3 # assigning each variable a value a=1 b=2 c=3(useful method in coordinates,parameters of shapes etc)\n",
        "print(a,b,c) # printing assigned values\n",
        "print(b)\n",
        "a+=2 # add 2 same as a=a+2\n",
        "b-=1 # subtract 1 same as b=b-1\n",
        "print(a)\n",
        "print(b)"
      ],
      "execution_count": 7,
      "outputs": [
        {
          "output_type": "stream",
          "text": [
            "2\n",
            "1 2 3\n",
            "2\n",
            "3\n",
            "1\n"
          ],
          "name": "stdout"
        }
      ]
    }
  ]
}
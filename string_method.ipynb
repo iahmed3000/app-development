{
  "nbformat": 4,
  "nbformat_minor": 0,
  "metadata": {
    "colab": {
      "name": "string-method.ipynb",
      "provenance": [],
      "authorship_tag": "ABX9TyOFe7xruuO4p6vQCytek7O+",
      "include_colab_link": true
    },
    "kernelspec": {
      "name": "python3",
      "display_name": "Python 3"
    }
  },
  "cells": [
    {
      "cell_type": "markdown",
      "metadata": {
        "id": "view-in-github",
        "colab_type": "text"
      },
      "source": [
        "<a href=\"https://colab.research.google.com/github/iahmed3000/app-development/blob/python-skills/string_method.ipynb\" target=\"_parent\"><img src=\"https://colab.research.google.com/assets/colab-badge.svg\" alt=\"Open In Colab\"/></a>"
      ]
    },
    {
      "cell_type": "code",
      "metadata": {
        "id": "TLpkSzCPdqEf",
        "colab_type": "code",
        "colab": {
          "base_uri": "https://localhost:8080/",
          "height": 141
        },
        "outputId": "d0a511b7-a67c-4ae5-cfa8-72cf4fd656ad"
      },
      "source": [
        "\"\"\"\n",
        "1- how to use format()\n",
        "2- how to use islower()\n",
        "3- how to use split() requires more practice\n",
        "\"\"\"\n",
        "a=\"the quick\"\n",
        "b=100\n",
        "print(a.islower()) # prints true if variable in lower case\n",
        "print(format(b)) # prints 100\n",
        "print(\"There are {} apples in a carton; format demonstration\".format(b)) # prints 100 in the placeholder(curly braces{})\n",
        "\"\"\"\n",
        "Another important string method: split()\n",
        "A helpful string method when working with strings is the .split method. This function or method returns a data container called a list that contains the words from \n",
        "the input string. We will be introducing you to the concept of lists in the next video.The split method has two additional arguments (sep and maxsplit). \n",
        "The sep argument stands for \"separator\". It can be used to identify how the string should be split up (e.g., whitespace characters like space, tab, return, newline; \n",
        "specific punctuation (e.g., comma, dashes)). If the sep argument is not provided, the default separator is whitespace. True to its name, the maxsplit argument \n",
        "provides the maximum number of splits. The argument gives maxsplit + 1 number of elements in the new list, with the remaining string being returned as the last \n",
        "element in the list. You can read more about these methods in the Python documentation too.\n",
        "\"\"\"\n",
        "new_str = \"The cow jumped over the moon.\"\n",
        "print(new_str.split()) # A basic split method: \n",
        "print(new_str.split(' ', 3)) # Here the separator is space, and the maxsplit argument is set to 3.\n",
        "print(new_str.split(\".\")) # Using '.' or period as a separator.\n",
        "print(new_str.split(None, 3)) # Using no separators but having a maxsplit argument of 3."
      ],
      "execution_count": 15,
      "outputs": [
        {
          "output_type": "stream",
          "text": [
            "True\n",
            "100\n",
            "There are 100 apples in a carton; format demonstration\n",
            "['The', 'cow', 'jumped', 'over', 'the', 'moon.']\n",
            "['The', 'cow', 'jumped', 'over the moon.']\n",
            "['The cow jumped over the moon', '']\n",
            "['The', 'cow', 'jumped', 'over the moon.']\n"
          ],
          "name": "stdout"
        }
      ]
    }
  ]
}
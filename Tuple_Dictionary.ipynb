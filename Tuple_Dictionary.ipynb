{
  "nbformat": 4,
  "nbformat_minor": 0,
  "metadata": {
    "colab": {
      "name": "Tuple-Dictionary.ipynb",
      "provenance": [],
      "authorship_tag": "ABX9TyOCedIdBCllXam5hJetshuj",
      "include_colab_link": true
    },
    "kernelspec": {
      "name": "python3",
      "display_name": "Python 3"
    }
  },
  "cells": [
    {
      "cell_type": "markdown",
      "metadata": {
        "id": "view-in-github",
        "colab_type": "text"
      },
      "source": [
        "<a href=\"https://colab.research.google.com/github/iahmed3000/app-development/blob/python-skills/Tuple_Dictionary.ipynb\" target=\"_parent\"><img src=\"https://colab.research.google.com/assets/colab-badge.svg\" alt=\"Open In Colab\"/></a>"
      ]
    },
    {
      "cell_type": "code",
      "metadata": {
        "id": "YKSAkGUmcaLl",
        "colab_type": "code",
        "colab": {
          "base_uri": "https://localhost:8080/",
          "height": 87
        },
        "outputId": "6dd64a97-e6a4-4231-e7f6-305c0449f2e7"
      },
      "source": [
        "brothers=\"Ibro\",\"Lilow\",\"Bash\" # when creating tuple paranthesis are optional\n",
        "print(brothers)\n",
        "print(type(brothers))\n",
        "\n",
        "first_bro,second_bro,third_bro=brothers # this procedure is tuple unpacking\n",
        "print(\"First {} Second {} Third {}\".format(first_bro,second_bro,third_bro))\n",
        "tree=(\"Palm tree\",\"Banana tree\",\"Coconut tree\") # tuple using paranthesis()\n",
        "print(tree)"
      ],
      "execution_count": 4,
      "outputs": [
        {
          "output_type": "stream",
          "text": [
            "('Ibro', 'Lilow', 'Bash')\n",
            "<class 'tuple'>\n",
            "First Ibro Second Lilow Third Bash\n",
            "('Palm tree', 'Banana tree', 'Coconut tree')\n"
          ],
          "name": "stdout"
        }
      ]
    },
    {
      "cell_type": "code",
      "metadata": {
        "id": "OOtxPz9DpIzY",
        "colab_type": "code",
        "colab": {
          "base_uri": "https://localhost:8080/",
          "height": 176
        },
        "outputId": "696cb372-286f-4949-ee42-7742f56cff11"
      },
      "source": [
        "\"\"\"\n",
        "is\n",
        "evaluates if both sides have the same identity\n",
        "is not\n",
        "evaluates if both sides have different identities\n",
        "\"\"\"\n",
        "books={\"Conan Doyle\":\"Adventures of Sherlock Holmes\",\"Charles Dickens\":\"Great Expectations\",\"Elaf Shafak\":\"Forty Rules Of Love\"}\n",
        "print(books)\n",
        "books[\"Shakespeare\"]=\"Merchant of Venice\"\n",
        "print(books)\n",
        "print(\"Merchant of Venice\" in books)\n",
        "print(\"Shakespeare\" in books)\n",
        "print(\"Robert Louis Stephenson\" in books)\n",
        "print(books.get(\"Robert Louis Stephenson\")) # prints None instead of error\n",
        "print(books.get(\"Conan Doyle\"))\n",
        "n=books.get(\"Conan Doyle\")\n",
        "print(n is None)\n",
        "print(n is not None)"
      ],
      "execution_count": 17,
      "outputs": [
        {
          "output_type": "stream",
          "text": [
            "{'Conan Doyle': 'Adventures of Sherlock Holmes', 'Charles Dickens': 'Great Expectations', 'Elaf Shafak': 'Forty Rules Of Love'}\n",
            "{'Conan Doyle': 'Adventures of Sherlock Holmes', 'Charles Dickens': 'Great Expectations', 'Elaf Shafak': 'Forty Rules Of Love', 'Shakespeare': 'Merchant of Venice'}\n",
            "False\n",
            "True\n",
            "False\n",
            "None\n",
            "Adventures of Sherlock Holmes\n",
            "False\n",
            "True\n"
          ],
          "name": "stdout"
        }
      ]
    },
    {
      "cell_type": "code",
      "metadata": {
        "id": "2cVRD91y8z9N",
        "colab_type": "code",
        "colab": {
          "base_uri": "https://localhost:8080/",
          "height": 107
        },
        "outputId": "dbb0e435-c509-4271-8c2c-2b09b687c807"
      },
      "source": [
        "\"\"\"\n",
        "Compound Data Structures(Nested Dictionary)\n",
        "\"\"\"\n",
        "brands={\"Trolli\":{\"item-number\":1001001,\"item-name\":\"trolli cocktail\",\"selling-price\":10},\"Delmonte\":{\"item-number\":1001002,\"item-name\":\"pineapple-orange\",\"selling-price\":12}}\n",
        "print(brands)\n",
        "brands[\"Trolli\"][\"Landed-cost\"]=2\n",
        "brands[\"Delmonte\"][\"Landed-cost\"]=3.5\n",
        "print(brands)\n",
        "print(brands.get(\"KitKat\",\"Brand not available\")) # custom error message instead of None\n",
        "mars={\"item-number\":1001003,\"item-name\":\"snickers\",\"selling-price\":15,'Landed-cost': 5}\n",
        "brands[\"Mars\"]=mars\n",
        "print(brands)"
      ],
      "execution_count": 53,
      "outputs": [
        {
          "output_type": "stream",
          "text": [
            "{'Trolli': {'item-number': 1001001, 'item-name': 'trolli cocktail', 'selling-price': 10}, 'Delmonte': {'item-number': 1001002, 'item-name': 'pineapple-orange', 'selling-price': 12}}\n",
            "{'Trolli': {'item-number': 1001001, 'item-name': 'trolli cocktail', 'selling-price': 10, 'Landed-cost': 2}, 'Delmonte': {'item-number': 1001002, 'item-name': 'pineapple-orange', 'selling-price': 12, 'Landed-cost': 3.5}}\n",
            "Brand not available\n",
            "{'Trolli': {'item-number': 1001001, 'item-name': 'trolli cocktail', 'selling-price': 10, 'Landed-cost': 2}, 'Delmonte': {'item-number': 1001002, 'item-name': 'pineapple-orange', 'selling-price': 12, 'Landed-cost': 3.5}, 'Mars': {'item-number': 1001003, 'item-name': 'snickers', 'selling-price': 15, 'Landed-cost': 5}}\n"
          ],
          "name": "stdout"
        }
      ]
    }
  ]
}
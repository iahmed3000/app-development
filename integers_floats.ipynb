{
  "nbformat": 4,
  "nbformat_minor": 0,
  "metadata": {
    "colab": {
      "name": "integers-floats.ipynb",
      "provenance": [],
      "authorship_tag": "ABX9TyPnHQjo7uautXeCyxIlNHys",
      "include_colab_link": true
    },
    "kernelspec": {
      "name": "python3",
      "display_name": "Python 3"
    }
  },
  "cells": [
    {
      "cell_type": "markdown",
      "metadata": {
        "id": "view-in-github",
        "colab_type": "text"
      },
      "source": [
        "<a href=\"https://colab.research.google.com/github/iahmed3000/app-development/blob/python-skills/integers_floats.ipynb\" target=\"_parent\"><img src=\"https://colab.research.google.com/assets/colab-badge.svg\" alt=\"Open In Colab\"/></a>"
      ]
    },
    {
      "cell_type": "code",
      "metadata": {
        "id": "IE6pE3fuz5hH",
        "colab_type": "code",
        "colab": {
          "base_uri": "https://localhost:8080/",
          "height": 52
        },
        "outputId": "bcbddde4-389e-4535-abd5-640958ca5a14"
      },
      "source": [
        "\"\"\"\n",
        "There are two Python data types that could be used for numeric values:\n",
        "int - for integer values\n",
        "float - for decimal or floating point values \n",
        "You can create a value that follows the data type by using the following syntax:\n",
        "\"\"\"\n",
        "x = int(4.7)   # x is now an integer 4\n",
        "y = float(4)   # y is now a float of 4.0\n",
        "print(type(x))\n",
        "print(type(y))"
      ],
      "execution_count": 1,
      "outputs": [
        {
          "output_type": "stream",
          "text": [
            "<class 'int'>\n",
            "<class 'float'>\n"
          ],
          "name": "stdout"
        }
      ]
    }
  ]
}
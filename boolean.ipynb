{
  "nbformat": 4,
  "nbformat_minor": 0,
  "metadata": {
    "colab": {
      "name": "boolean.ipynb",
      "provenance": [],
      "authorship_tag": "ABX9TyNh17eHKvfv6/IdN2jL7MLk",
      "include_colab_link": true
    },
    "kernelspec": {
      "name": "python3",
      "display_name": "Python 3"
    }
  },
  "cells": [
    {
      "cell_type": "markdown",
      "metadata": {
        "id": "view-in-github",
        "colab_type": "text"
      },
      "source": [
        "<a href=\"https://colab.research.google.com/github/iahmed3000/app-development/blob/python-skills/boolean.ipynb\" target=\"_parent\"><img src=\"https://colab.research.google.com/assets/colab-badge.svg\" alt=\"Open In Colab\"/></a>"
      ]
    },
    {
      "cell_type": "code",
      "metadata": {
        "id": "eJ7wrf-03CEs",
        "colab_type": "code",
        "colab": {
          "base_uri": "https://localhost:8080/",
          "height": 176
        },
        "outputId": "fef3e1fb-5c9b-4fe8-9498-65c218c4bf8a"
      },
      "source": [
        "print(5<3) # prints false\n",
        "print(5>3) # prints true\n",
        "print(3<=3) # prints true\n",
        "print(3>=5) # prints false\n",
        "print(3==5) # prints false\n",
        "print(3!=5) # prints true\n",
        "print(5<3 and 5==5) # prints false\n",
        "print(5<3 or 5==5) # prints true\n",
        "print(not(5<3)) # prints true"
      ],
      "execution_count": 4,
      "outputs": [
        {
          "output_type": "stream",
          "text": [
            "False\n",
            "True\n",
            "True\n",
            "False\n",
            "False\n",
            "True\n",
            "False\n",
            "True\n",
            "True\n"
          ],
          "name": "stdout"
        }
      ]
    }
  ]
}
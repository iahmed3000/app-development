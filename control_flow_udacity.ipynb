{
  "nbformat": 4,
  "nbformat_minor": 0,
  "metadata": {
    "colab": {
      "name": "control-flow-udacity.ipynb",
      "provenance": [],
      "collapsed_sections": [],
      "authorship_tag": "ABX9TyMRaQWNS1bqxLTETOEsA36Z",
      "include_colab_link": true
    },
    "kernelspec": {
      "name": "python3",
      "display_name": "Python 3"
    }
  },
  "cells": [
    {
      "cell_type": "markdown",
      "metadata": {
        "id": "view-in-github",
        "colab_type": "text"
      },
      "source": [
        "<a href=\"https://colab.research.google.com/github/iahmed3000/app-development/blob/python-skills/control_flow_udacity.ipynb\" target=\"_parent\"><img src=\"https://colab.research.google.com/assets/colab-badge.svg\" alt=\"Open In Colab\"/></a>"
      ]
    },
    {
      "cell_type": "code",
      "metadata": {
        "id": "_YIB31nV9Uet",
        "colab_type": "code",
        "outputId": "54932f20-d1f3-4886-a80d-36aa582fd299",
        "colab": {
          "base_uri": "https://localhost:8080/",
          "height": 105
        }
      },
      "source": [
        "cities=[\"Jeddah\",\"Taif\",\"Makkah\",\"Riyadh\",\"Dammam\"]\n",
        "for city in cities:\n",
        "    print(city.title())"
      ],
      "execution_count": 0,
      "outputs": [
        {
          "output_type": "stream",
          "text": [
            "Jeddah\n",
            "Taif\n",
            "Makkah\n",
            "Riyadh\n",
            "Dammam\n"
          ],
          "name": "stdout"
        }
      ]
    },
    {
      "cell_type": "code",
      "metadata": {
        "id": "WCslbi189onV",
        "colab_type": "code",
        "outputId": "c19f713d-6366-4d95-e52e-ab057c5a9524",
        "colab": {
          "base_uri": "https://localhost:8080/",
          "height": 34
        }
      },
      "source": [
        "capitalize_cities=[]\n",
        "for city in cities:\n",
        "    capitalize_cities.append(city)\n",
        "print(capitalize_cities)"
      ],
      "execution_count": 0,
      "outputs": [
        {
          "output_type": "stream",
          "text": [
            "['Jeddah', 'Taif', 'Makkah', 'Riyadh', 'Dammam']\n"
          ],
          "name": "stdout"
        }
      ]
    },
    {
      "cell_type": "code",
      "metadata": {
        "id": "pfucxrtq97qN",
        "colab_type": "code",
        "outputId": "6b5974e1-ab76-466d-9ead-0aa14866baf0",
        "colab": {
          "base_uri": "https://localhost:8080/",
          "height": 105
        }
      },
      "source": [
        "for i in range(5):\n",
        "    print(i)"
      ],
      "execution_count": 0,
      "outputs": [
        {
          "output_type": "stream",
          "text": [
            "0\n",
            "1\n",
            "2\n",
            "3\n",
            "4\n"
          ],
          "name": "stdout"
        }
      ]
    },
    {
      "cell_type": "code",
      "metadata": {
        "id": "rkYZgg-b-B-U",
        "colab_type": "code",
        "outputId": "9cdc0448-058f-4dfa-c3f1-e17788581b81",
        "colab": {
          "base_uri": "https://localhost:8080/",
          "height": 105
        }
      },
      "source": [
        "for i in range(0,5):\n",
        "    print(i)"
      ],
      "execution_count": 0,
      "outputs": [
        {
          "output_type": "stream",
          "text": [
            "0\n",
            "1\n",
            "2\n",
            "3\n",
            "4\n"
          ],
          "name": "stdout"
        }
      ]
    },
    {
      "cell_type": "code",
      "metadata": {
        "id": "JxGup22c-KC9",
        "colab_type": "code",
        "outputId": "d4dd139e-4e44-46a7-aaa0-f85ca4486b40",
        "colab": {
          "base_uri": "https://localhost:8080/",
          "height": 105
        }
      },
      "source": [
        "for i in range(0,10,2):\n",
        "    print(i)"
      ],
      "execution_count": 0,
      "outputs": [
        {
          "output_type": "stream",
          "text": [
            "0\n",
            "2\n",
            "4\n",
            "6\n",
            "8\n"
          ],
          "name": "stdout"
        }
      ]
    },
    {
      "cell_type": "code",
      "metadata": {
        "colab_type": "code",
        "outputId": "71e63684-43ae-425f-bc86-42051c1555f9",
        "id": "PHMlFyZs_fYM",
        "colab": {
          "base_uri": "https://localhost:8080/",
          "height": 123
        }
      },
      "source": [
        "for i in range(1,7):\n",
        "    print(i*5)"
      ],
      "execution_count": 0,
      "outputs": [
        {
          "output_type": "stream",
          "text": [
            "5\n",
            "10\n",
            "15\n",
            "20\n",
            "25\n",
            "30\n"
          ],
          "name": "stdout"
        }
      ]
    },
    {
      "cell_type": "code",
      "metadata": {
        "id": "vAoB58uJZIB3",
        "colab_type": "code",
        "outputId": "a4312dba-6e9d-431a-b781-2f19411714c6",
        "colab": {
          "base_uri": "https://localhost:8080/",
          "height": 105
        }
      },
      "source": [
        "i=1\n",
        "while(i<=5):\n",
        "    print(i*5)\n",
        "    i=i+1"
      ],
      "execution_count": 0,
      "outputs": [
        {
          "output_type": "stream",
          "text": [
            "5\n",
            "10\n",
            "15\n",
            "20\n",
            "25\n"
          ],
          "name": "stdout"
        }
      ]
    },
    {
      "cell_type": "code",
      "metadata": {
        "id": "LmNDRYHGa284",
        "colab_type": "code",
        "outputId": "8605ae44-42d9-44b7-b3d3-72834e5db65c",
        "colab": {
          "base_uri": "https://localhost:8080/",
          "height": 87
        }
      },
      "source": [
        "# break stops the complete iteration when condition met\n",
        "for val in \"string\":\n",
        "    if(val==\"i\"):\n",
        "        break\n",
        "    print(val)\n",
        "print(\"the end\")"
      ],
      "execution_count": 0,
      "outputs": [
        {
          "output_type": "stream",
          "text": [
            "s\n",
            "t\n",
            "r\n",
            "the end\n"
          ],
          "name": "stdout"
        }
      ]
    },
    {
      "cell_type": "code",
      "metadata": {
        "id": "j7vGHuLibUob",
        "colab_type": "code",
        "outputId": "1417ceb3-2a43-4b08-ade5-b3bee1e186de",
        "colab": {
          "base_uri": "https://localhost:8080/",
          "height": 141
        }
      },
      "source": [
        "#continue stops the current iteration only when condition met\n",
        "for val in \"string\":\n",
        "    if(val==\"n\"):\n",
        "        continue\n",
        "    print(val)\n",
        "print(\"\\n\"+\"the end\")"
      ],
      "execution_count": 0,
      "outputs": [
        {
          "output_type": "stream",
          "text": [
            "s\n",
            "t\n",
            "r\n",
            "i\n",
            "g\n",
            "\n",
            "the end\n"
          ],
          "name": "stdout"
        }
      ]
    },
    {
      "cell_type": "code",
      "metadata": {
        "id": "tdYU9S1Nokha",
        "colab_type": "code",
        "outputId": "1a1dd496-ae62-4584-bd00-5f4153908b36",
        "colab": {
          "base_uri": "https://localhost:8080/",
          "height": 34
        }
      },
      "source": [
        "\"\"\"\n",
        "Using Zip: used to add list together, to view it use list() or set() or a loop\n",
        "\"\"\"\n",
        "number_list = [1, 2, 3]\n",
        "str_list = ['one', 'two', 'three']\n",
        "\n",
        "# Two iterables are passed\n",
        "result = zip(number_list, str_list)\n",
        "\n",
        "# Converting itertor to set\n",
        "result_list = list(result)\n",
        "print(result_set)"
      ],
      "execution_count": 0,
      "outputs": [
        {
          "output_type": "stream",
          "text": [
            "[(1, 'one'), (2, 'two'), (3, 'three')]\n"
          ],
          "name": "stdout"
        }
      ]
    },
    {
      "cell_type": "code",
      "metadata": {
        "id": "-80lJsMp1mh5",
        "colab_type": "code",
        "outputId": "95f487f3-27b9-47c3-f8ce-c79666204886",
        "colab": {
          "base_uri": "https://localhost:8080/",
          "height": 70
        }
      },
      "source": [
        "\"\"\"\n",
        "Using zip with loop\n",
        "\"\"\"\n",
        "for num,str_l in result_list:\n",
        "    print(\"{}: {}\".format(num,str_l))"
      ],
      "execution_count": 0,
      "outputs": [
        {
          "output_type": "stream",
          "text": [
            "1: one\n",
            "2: two\n",
            "3: three\n"
          ],
          "name": "stdout"
        }
      ]
    },
    {
      "cell_type": "code",
      "metadata": {
        "id": "4ccPYaMr2JGQ",
        "colab_type": "code",
        "outputId": "977707f1-992d-4d67-e2ca-2d948c05412c",
        "colab": {
          "base_uri": "https://localhost:8080/",
          "height": 52
        }
      },
      "source": [
        "\"\"\"\n",
        "Enumerate() method adds a counter to an iterable and returns it in a form of enumerate object. This enumerate object can then be used directly in for loops or be \n",
        "converted into a list of tuples using list() method.\n",
        "\n",
        "Enumerate can be viewed in list() or set() method or in loop\n",
        "\"\"\"\n",
        "li=[\"Ismail\",\"Ibrahim\",\"Leban\"]\n",
        "s1=\"Ijiwaji\"\n",
        "\n",
        "en=list(enumerate(li))\n",
        "en2=list(enumerate(s1,2)) # starting counting from 2\n",
        "print(en)\n",
        "print(en2)"
      ],
      "execution_count": 0,
      "outputs": [
        {
          "output_type": "stream",
          "text": [
            "[(0, 'Ismail'), (1, 'Ibrahim'), (2, 'Leban')]\n",
            "[(2, 'I'), (3, 'j'), (4, 'i'), (5, 'w'), (6, 'a'), (7, 'j'), (8, 'i')]\n"
          ],
          "name": "stdout"
        }
      ]
    },
    {
      "cell_type": "code",
      "metadata": {
        "id": "ciUqWzW84mTj",
        "colab_type": "code",
        "outputId": "dd7fe523-9543-428e-8ca3-8d3398ba3a37",
        "colab": {
          "base_uri": "https://localhost:8080/",
          "height": 123
        }
      },
      "source": [
        "li=[\"eat\",\"sleep\",\"repeat\"]\n",
        "\n",
        "for l in enumerate(li):\n",
        "    print(l)\n",
        "\n",
        "for c,l in enumerate(li,200): # start counting from 200\n",
        "    print(c,l)\n"
      ],
      "execution_count": 0,
      "outputs": [
        {
          "output_type": "stream",
          "text": [
            "(0, 'eat')\n",
            "(1, 'sleep')\n",
            "(2, 'repeat')\n",
            "200 eat\n",
            "201 sleep\n",
            "202 repeat\n"
          ],
          "name": "stdout"
        }
      ]
    },
    {
      "cell_type": "code",
      "metadata": {
        "id": "ZhVx9Lsn6w-D",
        "colab_type": "code",
        "outputId": "fa96db4a-078e-41ed-d596-92339cd11517",
        "colab": {
          "base_uri": "https://localhost:8080/",
          "height": 34
        }
      },
      "source": [
        "# list comprehension\n",
        "mul=[i*5 for i in range(1,11)]\n",
        "mul"
      ],
      "execution_count": 0,
      "outputs": [
        {
          "output_type": "execute_result",
          "data": {
            "text/plain": [
              "[5, 10, 15, 20, 25, 30, 35, 40, 45, 50]"
            ]
          },
          "metadata": {
            "tags": []
          },
          "execution_count": 22
        }
      ]
    },
    {
      "cell_type": "code",
      "metadata": {
        "id": "L18uAoMB7dNf",
        "colab_type": "code",
        "outputId": "226ae440-eb15-46e3-8527-4ec94cd6a653",
        "colab": {
          "base_uri": "https://localhost:8080/",
          "height": 34
        }
      },
      "source": [
        "# list comprehension with condition; if contins else better mention if and else then loop\n",
        "mul=[i*5 for i in range(1,11) if (i*5)%2==0]\n",
        "mul"
      ],
      "execution_count": 0,
      "outputs": [
        {
          "output_type": "execute_result",
          "data": {
            "text/plain": [
              "[10, 20, 30, 40, 50]"
            ]
          },
          "metadata": {
            "tags": []
          },
          "execution_count": 23
        }
      ]
    }
  ]
}